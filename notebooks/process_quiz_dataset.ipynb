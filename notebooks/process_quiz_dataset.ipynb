{
 "cells": [
  {
   "cell_type": "code",
   "execution_count": null,
   "metadata": {},
   "outputs": [],
   "source": [
    "import json\n",
    "\n",
    "with open('../corpus/en.json', 'r') as f:\n",
    "    quiz_obj = json.load(f)"
   ]
  },
  {
   "cell_type": "markdown",
   "metadata": {},
   "source": [
    "### Create a simple QA datset _without_ options"
   ]
  },
  {
   "cell_type": "code",
   "execution_count": null,
   "metadata": {},
   "outputs": [],
   "source": [
    "dataset = []\n",
    "lesson_quizzes: list = quiz_obj[0][\"quizzes\"]\n",
    "for quiz_info in lesson_quizzes:\n",
    "    title = quiz_info[\"title\"]  # Lesson wise title\n",
    "    quizzes = quiz_info[\"quiz\"]  # List of quiz for a single lesson\n",
    "    for quiz in quizzes:\n",
    "        question = quiz[\"questionText\"]\n",
    "        answer = list(\n",
    "            filter(lambda item: item[\"isCorrect\"] == \"true\", quiz[\"answerOptions\"])\n",
    "        )[0][\"answerText\"]\n",
    "        dataset.append({\n",
    "            'question': question,\n",
    "            'answer': answer\n",
    "        })"
   ]
  },
  {
   "cell_type": "code",
   "execution_count": null,
   "metadata": {},
   "outputs": [],
   "source": [
    "import pandas as pd\n",
    "\n",
    "df_dataset = pd.DataFrame(dataset)\n",
    "df_dataset.head()"
   ]
  },
  {
   "cell_type": "code",
   "execution_count": null,
   "metadata": {},
   "outputs": [],
   "source": [
    "df_dataset.to_json('../datasets/itml_qa.jsonl', lines=True, orient='records')"
   ]
  },
  {
   "cell_type": "markdown",
   "metadata": {},
   "source": [
    "> Some examples in the simple QA dataset require manual review and removal. These examples include questions that provide options where significant context is embedded within the options themselves. For instance, questions like \"Which of these options...?\" or \"Fill in the blank with the correct option\" fall into this category."
   ]
  },
  {
   "cell_type": "markdown",
   "metadata": {},
   "source": [
    "### Create a simple QA datset _with_ options provided as MCQ"
   ]
  },
  {
   "cell_type": "markdown",
   "metadata": {},
   "source": [
    "with options"
   ]
  },
  {
   "cell_type": "code",
   "execution_count": null,
   "metadata": {},
   "outputs": [],
   "source": [
    "dataset = []\n",
    "lesson_quizzes: list = quiz_obj[0][\"quizzes\"]\n",
    "for quiz_info in lesson_quizzes:\n",
    "    title = quiz_info[\"title\"]  # Lesson wise title\n",
    "    quizzes = quiz_info[\"quiz\"]  # List of quiz for a single lesson\n",
    "    for quiz in quizzes:\n",
    "        question_text = quiz[\"questionText\"]\n",
    "        answer = list(\n",
    "            filter(lambda item: item[\"isCorrect\"] == \"true\", quiz[\"answerOptions\"])\n",
    "        )[0][\"answerText\"]\n",
    "\n",
    "        mcq = \"\\n\".join([\"- \" + item['answerText'] for item in quiz[\"answerOptions\"]])\n",
    "        prompt = \"Select the correct answer from the options given for the question below:\"\n",
    "        question = (\n",
    "            f\"{prompt}\\n\"\n",
    "            f\"\\nQuestion:\\n{question_text}\\n\"\n",
    "            f\"\\nOptions:\\n{mcq}\"\n",
    "        )\n",
    "\n",
    "        dataset.append({\n",
    "            'question': question,\n",
    "            'answer': answer\n",
    "        })\n",
    "\n",
    "print(dataset[1]['question'])"
   ]
  },
  {
   "cell_type": "code",
   "execution_count": null,
   "metadata": {},
   "outputs": [],
   "source": [
    "ds = pd.DataFrame(dataset)"
   ]
  },
  {
   "cell_type": "code",
   "execution_count": null,
   "metadata": {},
   "outputs": [],
   "source": [
    "ds.to_json('../datasets/itml_mcq.jsonl', lines=True, orient='records')"
   ]
  }
 ],
 "metadata": {
  "kernelspec": {
   "display_name": "ask-notes",
   "language": "python",
   "name": "python3"
  },
  "language_info": {
   "codemirror_mode": {
    "name": "ipython",
    "version": 3
   },
   "file_extension": ".py",
   "mimetype": "text/x-python",
   "name": "python",
   "nbconvert_exporter": "python",
   "pygments_lexer": "ipython3",
   "version": "3.13.1"
  }
 },
 "nbformat": 4,
 "nbformat_minor": 2
}

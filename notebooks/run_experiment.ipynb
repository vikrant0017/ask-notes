{
 "cells": [
  {
   "cell_type": "code",
   "execution_count": null,
   "metadata": {},
   "outputs": [],
   "source": [
    "from dotenv import load_dotenv\n",
    "load_dotenv('.env', override=True)"
   ]
  },
  {
   "cell_type": "code",
   "execution_count": null,
   "metadata": {},
   "outputs": [],
   "source": [
    "from langsmith import evaluate, Client\n",
    "from rag import ask, initialize\n",
    "\n",
    "client = Client()\n",
    "dataset_name = \"glimmerbooms\"\n",
    "\n",
    "initialize('eval_samples') # local dir name containing documents\n",
    "\n",
    "def is_concise(outputs: str, reference_outputs: dict) -> bool:\n",
    "    # Verify that the length of the model's output does not exceed 1.5 times the length of the reference output.\n",
    "    if len(outputs['output']) < 1.5 * len(reference_outputs['output']):\n",
    "        return True\n",
    "    return False\n",
    "\n",
    "def target(input):\n",
    "    res = ask(input['input'])\n",
    "    return {'output': res} # format expected by the evaluator\n",
    "\n",
    "evaluate(\n",
    "    target,\n",
    "    data=client.list_examples(dataset_name=dataset_name, split=['factual']),\n",
    "    evaluators=[is_concise],\n",
    "    experiment_prefix=\"exp with rep\",\n",
    "    num_repetitions=1,\n",
    "    metadata={\n",
    "        \"model_name\": 'gemini'\n",
    "    }\n",
    ")"
   ]
  }
 ],
 "metadata": {
  "kernelspec": {
   "display_name": "ask-notes",
   "language": "python",
   "name": "python3"
  },
  "language_info": {
   "codemirror_mode": {
    "name": "ipython",
    "version": 3
   },
   "file_extension": ".py",
   "mimetype": "text/x-python",
   "name": "python",
   "nbconvert_exporter": "python",
   "pygments_lexer": "ipython3",
   "version": "3.13.1"
  }
 },
 "nbformat": 4,
 "nbformat_minor": 2
}

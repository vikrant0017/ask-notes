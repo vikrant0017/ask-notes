{
 "cells": [
  {
   "cell_type": "code",
   "execution_count": null,
   "metadata": {},
   "outputs": [],
   "source": [
    "from dotenv import load_dotenv\n",
    "from langsmith import Client\n",
    "\n",
    "load_dotenv('.env', override=True)\n",
    "client = Client()\n",
    "dataset_id = '999fcf31-5c5c-4236-826b-0e728cc4aff8'\n"
   ]
  },
  {
   "cell_type": "code",
   "execution_count": null,
   "metadata": {},
   "outputs": [],
   "source": [
    "# Factual Recall & Direct Answer Extraction\n",
    "factual_recall = [\n",
    "    (\"What are the luminescent plants in the Whispering Caves called?\", \"Glimmerblooms\"),\n",
    "    (\"What causes the Glimmerblooms to emit light?\", \"A unique symbiotic relationship with a species of cave fungus known as 'Fungiscapes'.\"),\n",
    "    (\"What is the name of the large, six-legged creature encountered by Professor Willowbrook?\", \"The Cave Dweller\"),\n",
    "    (\"What is the title of Professor Willowbrook's most cited work?\", \"Symbiosis in Subterranean Ecosystems\"),\n",
    "    (\"When was her most cited work published?\", \"2022\"),\n",
    "    (\"What is the name of her scientific instrument that was almost destroyed?\", \"The 'Spectroscope 3000'.\"),\n",
    "    (\"Who funded Professor Willowbrook's research?\", \"The National Institute of Botanical Research\"),\n",
    "    (\"Where did Professor Willowbrook get her doctorate?\", \"Cambridge University\"),\n",
    "]\n",
    "\n",
    "# Inference & Relational Understanding\n",
    "inference_relational = [\n",
    "    (\"What factors influence the intensity of the Glimmerblooms' light?\", \"The level of ambient moisture in the caves.\"),\n",
    "    (\"What is the relationship between Fungiscapes and Glimmerblooms?\", \"They have a symbiotic relationship, with Fungiscapes enabling the Glimmerblooms to emit light.\"),\n",
    "    (\"Why did Professor Willowbrook find the Whispering Caves interesting?\", \"Because of the unique symbiotic relationship between the Glimmerblooms and Fungiscapes, and the unusual cave creatures.\"),\n",
    "]\n",
    "\n",
    "# Negatives & Out-of-Scope Questions\n",
    "negatives_out_of_scope = [\n",
    "    (\"Did Professor Willowbrook discover any flying creatures in the caves?\", \"The text doesn't mention any flying creatures.\"),\n",
    "    (\"What was the temperature inside the caves?\", \"I cannot answer that based on the text\"),\n",
    "    (\"What is the name of the Professor's husband?\", \"I cannot answer that based on the text\"),\n",
    "]\n",
    "\n",
    "# Complex, Multi-Fact Questions\n",
    "complex_multi_fact = [\n",
    "    (\"Describe Professor Willowbrook's research and the challenges she faced.\", \n",
    "     \"Professor Willowbrook researched the luminescent flora of the Whispering Caves called Glimmerblooms, which have a symbiotic relationship with Fungiscapes. Her research was challenging because she encountered creatures like the Chirping Spiders and The Cave Dweller, which almost destroyed her Spectroscope 3000.\"),\n",
    "]"
   ]
  },
  {
   "cell_type": "markdown",
   "metadata": {},
   "source": [
    "Examples RAG Q&A"
   ]
  },
  {
   "cell_type": "code",
   "execution_count": null,
   "metadata": {},
   "outputs": [],
   "source": [
    "client.create_examples(\n",
    "    inputs=[{'input': query} for query, response in factual_recall],\n",
    "    outputs=[{'output': response} for query, response  in factual_recall],\n",
    "    dataset_id=dataset_id,\n",
    "    splits=['factual' for _ in range(len(factual_recall))]\n",
    ")"
   ]
  },
  {
   "cell_type": "code",
   "execution_count": null,
   "metadata": {},
   "outputs": [],
   "source": [
    "client.create_examples(\n",
    "    inputs=[{'input': query} for query, response in inference_relational],\n",
    "    outputs=[{'output': response} for query, response  in inference_relational],\n",
    "    dataset_id=dataset_id,\n",
    "    splits=['inference' for _ in range(len(inference_relational))]\n",
    ")"
   ]
  },
  {
   "cell_type": "code",
   "execution_count": null,
   "metadata": {},
   "outputs": [],
   "source": [
    "client.create_examples(\n",
    "    inputs=[{'input': query} for query, response in negatives_out_of_scope],\n",
    "    outputs=[{'output': response} for query, response  in negatives_out_of_scope],\n",
    "    dataset_id=dataset_id,\n",
    "    splits=['negatives' for _ in range(len(negatives_out_of_scope))]\n",
    ")"
   ]
  },
  {
   "cell_type": "code",
   "execution_count": null,
   "metadata": {},
   "outputs": [],
   "source": [
    "client.create_examples(\n",
    "    inputs=[{'input': query} for query, response in complex_multi_fact],\n",
    "    outputs=[{'output': response} for query, response  in complex_multi_fact],\n",
    "    dataset_id=dataset_id,\n",
    "    splits=['complex' for _ in range(len(complex_multi_fact))]\n",
    ")"
   ]
  }
 ],
 "metadata": {
  "kernelspec": {
   "display_name": "ask-notes",
   "language": "python",
   "name": "python3"
  },
  "language_info": {
   "codemirror_mode": {
    "name": "ipython",
    "version": 3
   },
   "file_extension": ".py",
   "mimetype": "text/x-python",
   "name": "python",
   "nbconvert_exporter": "python",
   "pygments_lexer": "ipython3",
   "version": "3.13.1"
  }
 },
 "nbformat": 4,
 "nbformat_minor": 2
}
